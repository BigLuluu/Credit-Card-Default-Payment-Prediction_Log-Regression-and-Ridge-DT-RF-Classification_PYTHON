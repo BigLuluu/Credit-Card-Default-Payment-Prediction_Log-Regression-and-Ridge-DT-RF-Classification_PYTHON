{
 "cells": [
  {
   "cell_type": "markdown",
   "metadata": {
    "id": "gXAxgUShAi6X"
   },
   "source": [
    "# Credit Card Default Payment Prediction\n",
    "## Logistic Regression, Ridge, Decision Tree, and Random Forest Classification\n",
    ">### Author: Christina Lu Jin,\n",
    ">### Co-Author: Ngoc Tran, Mengyu Yang, Sneka kumar, Abishek Srinivas"
   ]
  },
  {
   "cell_type": "markdown",
   "metadata": {
    "id": "MqO1KezokB8o"
   },
   "source": [
    "# Setup: Libraries and packages"
   ]
  },
  {
   "cell_type": "code",
   "execution_count": null,
   "metadata": {
    "colab": {
     "base_uri": "https://localhost:8080/"
    },
    "id": "zw6qp6MjkIKR",
    "outputId": "6fedf17f-cc51-4f3a-da56-967776c7b81e"
   },
   "outputs": [
    {
     "name": "stderr",
     "output_type": "stream",
     "text": [
      "/usr/local/lib/python3.7/dist-packages/sklearn/externals/six.py:31: FutureWarning: The module is deprecated in version 0.21 and will be removed in version 0.23 since we've dropped support for Python 2.7. Please rely on the official version of six (https://pypi.org/project/six/).\n",
      "  \"(https://pypi.org/project/six/).\", FutureWarning)\n"
     ]
    }
   ],
   "source": [
    "from sklearn.model_selection import GridSearchCV\n",
    "from sklearn.model_selection import RandomizedSearchCV\n",
    "from sklearn.metrics import roc_auc_score\n",
    "from sklearn.metrics import roc_curve\n",
    "from sklearn.neighbors import KNeighborsClassifier\n",
    "from sklearn.linear_model import LogisticRegression\n",
    "from sklearn.metrics import confusion_matrix\n",
    "from sklearn.model_selection import cross_val_score\n",
    "from sklearn.metrics import classification_report\n",
    "from sklearn.ensemble import RandomForestClassifier\n",
    "from sklearn.preprocessing import StandardScaler\n",
    "\n",
    "from sklearn.model_selection import train_test_split \n",
    "from sklearn.tree import DecisionTreeClassifier \n",
    "from sklearn.metrics import accuracy_score,precision_score\n",
    "from sklearn import tree \n",
    "from sklearn.preprocessing import LabelEncoder\n",
    "\n",
    "from sklearn.externals.six import StringIO  \n",
    "from IPython.display import Image  \n",
    "from sklearn.tree import export_graphviz\n",
    "import pydotplus\n",
    "\n",
    "import requests\n",
    "import io\n",
    "import scipy\n",
    "import numpy as np\n",
    "import pandas as pd\n",
    "import pandas_datareader as pdr\n",
    "from pandas_datareader import data, wb\n",
    "import fix_yahoo_finance as yf\n",
    "import matplotlib.pyplot as plt\n",
    "from matplotlib.pyplot import plot\n",
    "from matplotlib.pyplot import figure\n",
    "from matplotlib.pyplot import style\n",
    "import matplotlib.ticker as mtick\n",
    "import datetime\n",
    "from datetime import date\n",
    "from dateutil.parser import parse\n",
    "from sklearn.metrics import plot_confusion_matrix\n",
    "from sklearn.linear_model import RidgeClassifier\n",
    "from pprint import pprint\n",
    "from sklearn.metrics import roc_auc_score,accuracy_score, precision_score, recall_score,precision_recall_curve\n",
    "from sklearn.metrics import roc_curve\n",
    "from sklearn import metrics # for the check the error and accuracy of the model\n",
    "\n",
    "import seaborn as sns"
   ]
  },
  {
   "cell_type": "markdown",
   "metadata": {
    "id": "ekrt4IfxkwYG"
   },
   "source": [
    "# Data preparation"
   ]
  },
  {
   "cell_type": "markdown",
   "metadata": {
    "id": "BXtvM_5VnDuD"
   },
   "source": [
    "### Data Set Information:\n",
    "\n",
    "**This research aimed at the case of customers default payments in Taiwan**\n",
    "\n",
    "### Features description:\n",
    "ID: ID of each client\n",
    "\n",
    "LIMIT_BAL: Amount of given credit in NT dollars (includes individual and family/supplementary credit)\n",
    "\n",
    "SEX: Gender (1=male, 2=female)\n",
    "\n",
    "EDUCATION: (1=graduate school, 2=university, 3=high school, 4=others)\n",
    "\n",
    "MARRIAGE: Marital status (1=married, 2=single, 3=others)\n",
    "\n",
    "AGE: Age in years\n",
    "\n",
    "PAY_0: Repayment status in September, 2005 (-1=pay duly, 1=payment delay for one month, 2=payment delay for two months, … 8=payment delay for eight months, 9=payment delay for nine months and above)\n",
    "\n",
    "PAY_2: Repayment status in August, 2005 (scale same as above)\n",
    "\n",
    "PAY_3: Repayment status in July, 2005 (scale same as above)\n",
    "\n",
    "PAY_4: Repayment status in June, 2005 (scale same as above)\n",
    "\n",
    "PAY_5: Repayment status in May, 2005 (scale same as above)\n",
    "\n",
    "PAY_6: Repayment status in April, 2005 (scale same as above)\n",
    "\n",
    "BILL_AMT1: Amount of bill statement in September, 2005 (NT dollar)\n",
    "\n",
    "BILL_AMT2: Amount of bill statement in August, 2005 (NT dollar)\n",
    "\n",
    "BILL_AMT3: Amount of bill statement in July, 2005 (NT dollar)\n",
    "\n",
    "BILL_AMT4: Amount of bill statement in June, 2005 (NT dollar)\n",
    "\n",
    "BILL_AMT5: Amount of bill statement in May, 2005 (NT dollar)\n",
    "\n",
    "BILL_AMT6: Amount of bill statement in April, 2005 (NT dollar)\n",
    "\n",
    "PAY_AMT1: Amount of previous payment in September, 2005 (NT dollar)\n",
    "\n",
    "PAY_AMT2: Amount of previous payment in August, 2005 (NT dollar)\n",
    "\n",
    "PAY_AMT3: Amount of previous payment in July, 2005 (NT dollar)\n",
    "\n",
    "PAY_AMT4: Amount of previous payment in June, 2005 (NT dollar)\n",
    "\n",
    "PAY_AMT5: Amount of previous payment in May, 2005 (NT dollar)\n",
    "\n",
    "PAY_AMT6: Amount of previous payment in April, 2005 (NT dollar)\n",
    "\n",
    "default.payment.next.month: Default payment in June, 2005 (1=yes, 0=no)"
   ]
  },
  {
   "cell_type": "code",
   "execution_count": null,
   "metadata": {
    "id": "NQomYgOIik6W"
   },
   "outputs": [],
   "source": [
    "data_path = 'https://docs.google.com/spreadsheets/d/e/2PACX-1vTUuIaQ9l1B1ZxMZ-ucOUOzqX_uLcd7qA_HxHtB9MejT-G1SxcxTjE7k_rVpFFKl4me8wbppZRgJXUi/pub?gid=325578529&single=true&output=csv'"
   ]
  },
  {
   "cell_type": "code",
   "execution_count": null,
   "metadata": {
    "colab": {
     "base_uri": "https://localhost:8080/",
     "height": 439
    },
    "id": "WWu9pVW6j4wn",
    "outputId": "ef4b6d2a-c7dd-481a-aa98-4f8a5916109a"
   },
   "outputs": [
    {
     "data": {
      "text/html": [
       "<div>\n",
       "<style scoped>\n",
       "    .dataframe tbody tr th:only-of-type {\n",
       "        vertical-align: middle;\n",
       "    }\n",
       "\n",
       "    .dataframe tbody tr th {\n",
       "        vertical-align: top;\n",
       "    }\n",
       "\n",
       "    .dataframe thead th {\n",
       "        text-align: right;\n",
       "    }\n",
       "</style>\n",
       "<table border=\"1\" class=\"dataframe\">\n",
       "  <thead>\n",
       "    <tr style=\"text-align: right;\">\n",
       "      <th></th>\n",
       "      <th>ID</th>\n",
       "      <th>LIMIT_BAL</th>\n",
       "      <th>SEX</th>\n",
       "      <th>EDUCATION</th>\n",
       "      <th>MARRIAGE</th>\n",
       "      <th>AGE</th>\n",
       "      <th>PAY_0</th>\n",
       "      <th>PAY_2</th>\n",
       "      <th>PAY_3</th>\n",
       "      <th>PAY_4</th>\n",
       "      <th>PAY_5</th>\n",
       "      <th>PAY_6</th>\n",
       "      <th>BILL_AMT1</th>\n",
       "      <th>BILL_AMT2</th>\n",
       "      <th>BILL_AMT3</th>\n",
       "      <th>BILL_AMT4</th>\n",
       "      <th>BILL_AMT5</th>\n",
       "      <th>BILL_AMT6</th>\n",
       "      <th>PAY_AMT1</th>\n",
       "      <th>PAY_AMT2</th>\n",
       "      <th>PAY_AMT3</th>\n",
       "      <th>PAY_AMT4</th>\n",
       "      <th>PAY_AMT5</th>\n",
       "      <th>PAY_AMT6</th>\n",
       "      <th>default.payment.next.month</th>\n",
       "    </tr>\n",
       "  </thead>\n",
       "  <tbody>\n",
       "    <tr>\n",
       "      <th>0</th>\n",
       "      <td>1</td>\n",
       "      <td>20000.0</td>\n",
       "      <td>2</td>\n",
       "      <td>2</td>\n",
       "      <td>1</td>\n",
       "      <td>24</td>\n",
       "      <td>2</td>\n",
       "      <td>2</td>\n",
       "      <td>-1</td>\n",
       "      <td>-1</td>\n",
       "      <td>-2</td>\n",
       "      <td>-2</td>\n",
       "      <td>3913.0</td>\n",
       "      <td>3102.0</td>\n",
       "      <td>689.0</td>\n",
       "      <td>0.0</td>\n",
       "      <td>0.0</td>\n",
       "      <td>0.0</td>\n",
       "      <td>0.0</td>\n",
       "      <td>689.0</td>\n",
       "      <td>0.0</td>\n",
       "      <td>0.0</td>\n",
       "      <td>0.0</td>\n",
       "      <td>0.0</td>\n",
       "      <td>1</td>\n",
       "    </tr>\n",
       "    <tr>\n",
       "      <th>1</th>\n",
       "      <td>2</td>\n",
       "      <td>120000.0</td>\n",
       "      <td>2</td>\n",
       "      <td>2</td>\n",
       "      <td>2</td>\n",
       "      <td>26</td>\n",
       "      <td>-1</td>\n",
       "      <td>2</td>\n",
       "      <td>0</td>\n",
       "      <td>0</td>\n",
       "      <td>0</td>\n",
       "      <td>2</td>\n",
       "      <td>2682.0</td>\n",
       "      <td>1725.0</td>\n",
       "      <td>2682.0</td>\n",
       "      <td>3272.0</td>\n",
       "      <td>3455.0</td>\n",
       "      <td>3261.0</td>\n",
       "      <td>0.0</td>\n",
       "      <td>1000.0</td>\n",
       "      <td>1000.0</td>\n",
       "      <td>1000.0</td>\n",
       "      <td>0.0</td>\n",
       "      <td>2000.0</td>\n",
       "      <td>1</td>\n",
       "    </tr>\n",
       "    <tr>\n",
       "      <th>2</th>\n",
       "      <td>3</td>\n",
       "      <td>90000.0</td>\n",
       "      <td>2</td>\n",
       "      <td>2</td>\n",
       "      <td>2</td>\n",
       "      <td>34</td>\n",
       "      <td>0</td>\n",
       "      <td>0</td>\n",
       "      <td>0</td>\n",
       "      <td>0</td>\n",
       "      <td>0</td>\n",
       "      <td>0</td>\n",
       "      <td>29239.0</td>\n",
       "      <td>14027.0</td>\n",
       "      <td>13559.0</td>\n",
       "      <td>14331.0</td>\n",
       "      <td>14948.0</td>\n",
       "      <td>15549.0</td>\n",
       "      <td>1518.0</td>\n",
       "      <td>1500.0</td>\n",
       "      <td>1000.0</td>\n",
       "      <td>1000.0</td>\n",
       "      <td>1000.0</td>\n",
       "      <td>5000.0</td>\n",
       "      <td>0</td>\n",
       "    </tr>\n",
       "    <tr>\n",
       "      <th>3</th>\n",
       "      <td>4</td>\n",
       "      <td>50000.0</td>\n",
       "      <td>2</td>\n",
       "      <td>2</td>\n",
       "      <td>1</td>\n",
       "      <td>37</td>\n",
       "      <td>0</td>\n",
       "      <td>0</td>\n",
       "      <td>0</td>\n",
       "      <td>0</td>\n",
       "      <td>0</td>\n",
       "      <td>0</td>\n",
       "      <td>46990.0</td>\n",
       "      <td>48233.0</td>\n",
       "      <td>49291.0</td>\n",
       "      <td>28314.0</td>\n",
       "      <td>28959.0</td>\n",
       "      <td>29547.0</td>\n",
       "      <td>2000.0</td>\n",
       "      <td>2019.0</td>\n",
       "      <td>1200.0</td>\n",
       "      <td>1100.0</td>\n",
       "      <td>1069.0</td>\n",
       "      <td>1000.0</td>\n",
       "      <td>0</td>\n",
       "    </tr>\n",
       "    <tr>\n",
       "      <th>4</th>\n",
       "      <td>5</td>\n",
       "      <td>50000.0</td>\n",
       "      <td>1</td>\n",
       "      <td>2</td>\n",
       "      <td>1</td>\n",
       "      <td>57</td>\n",
       "      <td>-1</td>\n",
       "      <td>0</td>\n",
       "      <td>-1</td>\n",
       "      <td>0</td>\n",
       "      <td>0</td>\n",
       "      <td>0</td>\n",
       "      <td>8617.0</td>\n",
       "      <td>5670.0</td>\n",
       "      <td>35835.0</td>\n",
       "      <td>20940.0</td>\n",
       "      <td>19146.0</td>\n",
       "      <td>19131.0</td>\n",
       "      <td>2000.0</td>\n",
       "      <td>36681.0</td>\n",
       "      <td>10000.0</td>\n",
       "      <td>9000.0</td>\n",
       "      <td>689.0</td>\n",
       "      <td>679.0</td>\n",
       "      <td>0</td>\n",
       "    </tr>\n",
       "    <tr>\n",
       "      <th>...</th>\n",
       "      <td>...</td>\n",
       "      <td>...</td>\n",
       "      <td>...</td>\n",
       "      <td>...</td>\n",
       "      <td>...</td>\n",
       "      <td>...</td>\n",
       "      <td>...</td>\n",
       "      <td>...</td>\n",
       "      <td>...</td>\n",
       "      <td>...</td>\n",
       "      <td>...</td>\n",
       "      <td>...</td>\n",
       "      <td>...</td>\n",
       "      <td>...</td>\n",
       "      <td>...</td>\n",
       "      <td>...</td>\n",
       "      <td>...</td>\n",
       "      <td>...</td>\n",
       "      <td>...</td>\n",
       "      <td>...</td>\n",
       "      <td>...</td>\n",
       "      <td>...</td>\n",
       "      <td>...</td>\n",
       "      <td>...</td>\n",
       "      <td>...</td>\n",
       "    </tr>\n",
       "    <tr>\n",
       "      <th>29995</th>\n",
       "      <td>29996</td>\n",
       "      <td>220000.0</td>\n",
       "      <td>1</td>\n",
       "      <td>3</td>\n",
       "      <td>1</td>\n",
       "      <td>39</td>\n",
       "      <td>0</td>\n",
       "      <td>0</td>\n",
       "      <td>0</td>\n",
       "      <td>0</td>\n",
       "      <td>0</td>\n",
       "      <td>0</td>\n",
       "      <td>188948.0</td>\n",
       "      <td>192815.0</td>\n",
       "      <td>208365.0</td>\n",
       "      <td>88004.0</td>\n",
       "      <td>31237.0</td>\n",
       "      <td>15980.0</td>\n",
       "      <td>8500.0</td>\n",
       "      <td>20000.0</td>\n",
       "      <td>5003.0</td>\n",
       "      <td>3047.0</td>\n",
       "      <td>5000.0</td>\n",
       "      <td>1000.0</td>\n",
       "      <td>0</td>\n",
       "    </tr>\n",
       "    <tr>\n",
       "      <th>29996</th>\n",
       "      <td>29997</td>\n",
       "      <td>150000.0</td>\n",
       "      <td>1</td>\n",
       "      <td>3</td>\n",
       "      <td>2</td>\n",
       "      <td>43</td>\n",
       "      <td>-1</td>\n",
       "      <td>-1</td>\n",
       "      <td>-1</td>\n",
       "      <td>-1</td>\n",
       "      <td>0</td>\n",
       "      <td>0</td>\n",
       "      <td>1683.0</td>\n",
       "      <td>1828.0</td>\n",
       "      <td>3502.0</td>\n",
       "      <td>8979.0</td>\n",
       "      <td>5190.0</td>\n",
       "      <td>0.0</td>\n",
       "      <td>1837.0</td>\n",
       "      <td>3526.0</td>\n",
       "      <td>8998.0</td>\n",
       "      <td>129.0</td>\n",
       "      <td>0.0</td>\n",
       "      <td>0.0</td>\n",
       "      <td>0</td>\n",
       "    </tr>\n",
       "    <tr>\n",
       "      <th>29997</th>\n",
       "      <td>29998</td>\n",
       "      <td>30000.0</td>\n",
       "      <td>1</td>\n",
       "      <td>2</td>\n",
       "      <td>2</td>\n",
       "      <td>37</td>\n",
       "      <td>4</td>\n",
       "      <td>3</td>\n",
       "      <td>2</td>\n",
       "      <td>-1</td>\n",
       "      <td>0</td>\n",
       "      <td>0</td>\n",
       "      <td>3565.0</td>\n",
       "      <td>3356.0</td>\n",
       "      <td>2758.0</td>\n",
       "      <td>20878.0</td>\n",
       "      <td>20582.0</td>\n",
       "      <td>19357.0</td>\n",
       "      <td>0.0</td>\n",
       "      <td>0.0</td>\n",
       "      <td>22000.0</td>\n",
       "      <td>4200.0</td>\n",
       "      <td>2000.0</td>\n",
       "      <td>3100.0</td>\n",
       "      <td>1</td>\n",
       "    </tr>\n",
       "    <tr>\n",
       "      <th>29998</th>\n",
       "      <td>29999</td>\n",
       "      <td>80000.0</td>\n",
       "      <td>1</td>\n",
       "      <td>3</td>\n",
       "      <td>1</td>\n",
       "      <td>41</td>\n",
       "      <td>1</td>\n",
       "      <td>-1</td>\n",
       "      <td>0</td>\n",
       "      <td>0</td>\n",
       "      <td>0</td>\n",
       "      <td>-1</td>\n",
       "      <td>-1645.0</td>\n",
       "      <td>78379.0</td>\n",
       "      <td>76304.0</td>\n",
       "      <td>52774.0</td>\n",
       "      <td>11855.0</td>\n",
       "      <td>48944.0</td>\n",
       "      <td>85900.0</td>\n",
       "      <td>3409.0</td>\n",
       "      <td>1178.0</td>\n",
       "      <td>1926.0</td>\n",
       "      <td>52964.0</td>\n",
       "      <td>1804.0</td>\n",
       "      <td>1</td>\n",
       "    </tr>\n",
       "    <tr>\n",
       "      <th>29999</th>\n",
       "      <td>30000</td>\n",
       "      <td>50000.0</td>\n",
       "      <td>1</td>\n",
       "      <td>2</td>\n",
       "      <td>1</td>\n",
       "      <td>46</td>\n",
       "      <td>0</td>\n",
       "      <td>0</td>\n",
       "      <td>0</td>\n",
       "      <td>0</td>\n",
       "      <td>0</td>\n",
       "      <td>0</td>\n",
       "      <td>47929.0</td>\n",
       "      <td>48905.0</td>\n",
       "      <td>49764.0</td>\n",
       "      <td>36535.0</td>\n",
       "      <td>32428.0</td>\n",
       "      <td>15313.0</td>\n",
       "      <td>2078.0</td>\n",
       "      <td>1800.0</td>\n",
       "      <td>1430.0</td>\n",
       "      <td>1000.0</td>\n",
       "      <td>1000.0</td>\n",
       "      <td>1000.0</td>\n",
       "      <td>1</td>\n",
       "    </tr>\n",
       "  </tbody>\n",
       "</table>\n",
       "<p>30000 rows × 25 columns</p>\n",
       "</div>"
      ],
      "text/plain": [
       "          ID  LIMIT_BAL  SEX  ...  PAY_AMT5  PAY_AMT6  default.payment.next.month\n",
       "0          1    20000.0    2  ...       0.0       0.0                           1\n",
       "1          2   120000.0    2  ...       0.0    2000.0                           1\n",
       "2          3    90000.0    2  ...    1000.0    5000.0                           0\n",
       "3          4    50000.0    2  ...    1069.0    1000.0                           0\n",
       "4          5    50000.0    1  ...     689.0     679.0                           0\n",
       "...      ...        ...  ...  ...       ...       ...                         ...\n",
       "29995  29996   220000.0    1  ...    5000.0    1000.0                           0\n",
       "29996  29997   150000.0    1  ...       0.0       0.0                           0\n",
       "29997  29998    30000.0    1  ...    2000.0    3100.0                           1\n",
       "29998  29999    80000.0    1  ...   52964.0    1804.0                           1\n",
       "29999  30000    50000.0    1  ...    1000.0    1000.0                           1\n",
       "\n",
       "[30000 rows x 25 columns]"
      ]
     },
     "execution_count": 3,
     "metadata": {
      "tags": []
     },
     "output_type": "execute_result"
    }
   ],
   "source": [
    "df = pd.read_csv(data_path)\n",
    "df"
   ]
  },
  {
   "cell_type": "code",
   "execution_count": null,
   "metadata": {
    "id": "cHer8uI4DB1Z"
   },
   "outputs": [],
   "source": [
    "#set ID as Index\n",
    "df = df.set_index('ID')"
   ]
  },
  {
   "cell_type": "markdown",
   "metadata": {
    "id": "uf05wpFMlKrg"
   },
   "source": [
    "# Exploratory Data Analysis"
   ]
  },
  {
   "cell_type": "code",
   "execution_count": null,
   "metadata": {
    "colab": {
     "base_uri": "https://localhost:8080/",
     "height": 416
    },
    "id": "SmI4mhmZykQ-",
    "outputId": "3984ac3f-a2ed-48c9-c280-3d248ba9a54f"
   },
   "outputs": [
    {
     "data": {
      "text/plain": [
       "<matplotlib.axes._subplots.AxesSubplot at 0x7ff58d241b90>"
      ]
     },
     "execution_count": 5,
     "metadata": {
      "tags": []
     },
     "output_type": "execute_result"
    },
    {
     "data": {
      "image/png": "[encoded data removed]",
      "text/plain": [
       "<Figure size 432x288 with 1 Axes>"
      ]
     },
     "metadata": {
      "needs_background": "light",
      "tags": []
     },
     "output_type": "display_data"
    }
   ],
   "source": [
    "#check for NA values\n",
    "sns.heatmap(df.isnull(),yticklabels=False,cbar=False,cmap='viridis')"
   ]
  },
  {
   "cell_type": "code",
   "execution_count": null,
   "metadata": {
    "id": "Ud_zarh2y5-P"
   },
   "outputs": [],
   "source": [
    "#Rename the default.payment.next.month column to Default\n",
    "df.rename(columns={\"default.payment.next.month\": \"Default\"}, inplace=True)"
   ]
  },
  {
   "cell_type": "code",
   "execution_count": null,
   "metadata": {
    "colab": {
     "base_uri": "https://localhost:8080/",
     "height": 371
    },
    "id": "lN_RsU-0NG4Y",
    "outputId": "a2a9152e-29a6-44f7-d374-058be46ebbbb"
   },
   "outputs": [
    {
     "name": "stderr",
     "output_type": "stream",
     "text": [
      "/usr/local/lib/python3.7/dist-packages/seaborn/_decorators.py:43: FutureWarning: Pass the following variable as a keyword arg: x. From version 0.12, the only valid positional argument will be `data`, and passing other arguments without an explicit keyword will result in an error or misinterpretation.\n",
      "  FutureWarning\n"
     ]
    },
    {
     "data": {
      "text/plain": [
       "Text(0.5, 1.0, 'DISTRIBUTION OF DEFAULT')"
      ]
     },
     "execution_count": 7,
     "metadata": {
      "tags": []
     },
     "output_type": "execute_result"
    },
    {
     "data": {
      "image/png": "[encoded data removed]",
      "text/plain": [
       "<Figure size 432x288 with 1 Axes>"
      ]
     },
     "metadata": {
      "needs_background": "light",
      "tags": []
     },
     "output_type": "display_data"
    }
   ],
   "source": [
    "#Distribution of default\n",
    "sns.countplot('Default',data=df)\n",
    "plt.title('DISTRIBUTION OF DEFAULT', size=20)"
   ]
  },
  {
   "cell_type": "code",
   "execution_count": null,
   "metadata": {
    "id": "CfVHFc8MVbCH"
   },
   "outputs": [],
   "source": [
    "#Edit unused education values\n",
    "df['EDUCATION'].replace (0,4,inplace = True)\n",
    "df['EDUCATION'].replace (5,4,inplace = True)\n",
    "df['EDUCATION'].replace (6,4,inplace = True)"
   ]
  },
  {
   "cell_type": "code",
   "execution_count": null,
   "metadata": {
    "colab": {
     "base_uri": "https://localhost:8080/",
     "height": 296
    },
    "id": "Ib_unW6_0rhx",
    "outputId": "7ec163ca-3199-4237-b197-c1ae1d096cf3"
   },
   "outputs": [
    {
     "data": {
      "text/plain": [
       "<matplotlib.axes._subplots.AxesSubplot at 0x7ff56fe12650>"
      ]
     },
     "execution_count": 9,
     "metadata": {
      "tags": []
     },
     "output_type": "execute_result"
    },
    {
     "data": {
      "image/png": "[encoded data removed]",
      "text/plain": [
       "<Figure size 432x288 with 1 Axes>"
      ]
     },
     "metadata": {
      "needs_background": "light",
      "tags": []
     },
     "output_type": "display_data"
    }
   ],
   "source": [
    "#Distribution of default by education\n",
    "sns.countplot(x='EDUCATION', hue='Default', data = df)"
   ]
  },
  {
   "cell_type": "code",
   "execution_count": null,
   "metadata": {
    "colab": {
     "base_uri": "https://localhost:8080/",
     "height": 296
    },
    "id": "gVT2qRuk2kK3",
    "outputId": "81550952-c40f-4864-fe94-1845dc17ecde"
   },
   "outputs": [
    {
     "data": {
      "text/plain": [
       "<matplotlib.axes._subplots.AxesSubplot at 0x7ff56fda66d0>"
      ]
     },
     "execution_count": 10,
     "metadata": {
      "tags": []
     },
     "output_type": "execute_result"
    },
    {
     "data": {
      "image/png": "[encoded data removed]",
      "text/plain": [
       "<Figure size 432x288 with 1 Axes>"
      ]
     },
     "metadata": {
      "needs_background": "light",
      "tags": []
     },
     "output_type": "display_data"
    }
   ],
   "source": [
    "df['MARRIAGE'].replace (0,3,inplace = True)\n",
    "#Distribution of default by Marriage\n",
    "sns.countplot(x='MARRIAGE', hue='Default', data = df)"
   ]
  },
  {
   "cell_type": "code",
   "execution_count": null,
   "metadata": {
    "colab": {
     "base_uri": "https://localhost:8080/",
     "height": 296
    },
    "id": "3mJT7WgH200V",
    "outputId": "473eee0a-fb20-4d2f-ab1f-7e78d3aa3ddc"
   },
   "outputs": [
    {
     "data": {
      "text/plain": [
       "<matplotlib.axes._subplots.AxesSubplot at 0x7ff56fd12750>"
      ]
     },
     "execution_count": 11,
     "metadata": {
      "tags": []
     },
     "output_type": "execute_result"
    },
    {
     "data": {
      "image/png": "[encoded data removed]",
      "text/plain": [
       "<Figure size 432x288 with 1 Axes>"
      ]
     },
     "metadata": {
      "needs_background": "light",
      "tags": []
     },
     "output_type": "display_data"
    }
   ],
   "source": [
    "#Distribution of default by SEX\n",
    "sns.countplot(x='SEX', hue='Default', data = df)"
   ]
  },
  {
   "cell_type": "code",
   "execution_count": null,
   "metadata": {
    "colab": {
     "base_uri": "https://localhost:8080/",
     "height": 296
    },
    "id": "P32QKANE6yEF",
    "outputId": "2a081aa9-cf9b-4d9d-e1e6-dd974145854d"
   },
   "outputs": [
    {
     "data": {
      "text/plain": [
       "<matplotlib.axes._subplots.AxesSubplot at 0x7ff56fcafd90>"
      ]
     },
     "execution_count": 12,
     "metadata": {
      "tags": []
     },
     "output_type": "execute_result"
    },
    {
     "data": {
      "image/png": "[encoded data removed]",
      "text/plain": [
       "<Figure size 432x288 with 1 Axes>"
      ]
     },
     "metadata": {
      "needs_background": "light",
      "tags": []
     },
     "output_type": "display_data"
    }
   ],
   "source": [
    "#Distribution of default by age\n",
    "sns.countplot(x='AGE', hue='Default', data = df)"
   ]
  },
  {
   "cell_type": "code",
   "execution_count": null,
   "metadata": {
    "colab": {
     "base_uri": "https://localhost:8080/",
     "height": 730
    },
    "id": "lxD4h-fF3YVz",
    "outputId": "b13fed57-6731-4163-d9ca-eaa64a9ec0e8"
   },
   "outputs": [
    {
     "data": {
      "image/png": "[encoded data removed]",
      "text/plain": [
       "<Figure size 576x864 with 2 Axes>"
      ]
     },
     "metadata": {
      "needs_background": "light",
      "tags": []
     },
     "output_type": "display_data"
    }
   ],
   "source": [
    "#Correlation For Default(Target Variable)with other Variables\n",
    "df.corr()[['Default']].sort_values(by='Default', ascending=False)\n",
    "plt.figure(figsize=(8, 12))\n",
    "heatmap = sns.heatmap(df.corr()[['Default']].sort_values(by='Default', ascending=False), vmin=-1, vmax=1, annot=True, cmap='BrBG')\n",
    "heatmap.set_title('Features Correlating with Default', fontdict={'fontsize':18}, pad=16);"
   ]
  },
  {
   "cell_type": "markdown",
   "metadata": {
    "id": "Pua4wDlL6jCC"
   },
   "source": [
    "#### EDA Summary:\n",
    "\n",
    "* There is no missing values in the dataset.\n",
    "* Average Amount of bill statement seems to increase for every month.\n",
    "* Countplot depicts only 22% of people make creditcard payment for Month of June,2005(Default1= yes,Default0=No).\n",
    "* Marriage feature has half(nearly 53%)of customers with marital status-single(Marriage 1=Single) and the default payment with status single has 50-50 chance to make it on Month of June,2005.\n",
    "* Heat map shows that the target variable(Default) has no strong relationship with any of the features in the dataset.\n"
   ]
  },
  {
   "cell_type": "markdown",
   "metadata": {
    "id": "G7f1Xmto5l8V"
   },
   "source": [
    "# Models"
   ]
  },
  {
   "cell_type": "markdown",
   "metadata": {
    "id": "FqChawuB-CW5"
   },
   "source": [
    "## Logistic Regression Classification"
   ]
  },
  {
   "cell_type": "markdown",
   "metadata": {
    "id": "svh4J7zBI2yR"
   },
   "source": [
    "### Build Model"
   ]
  },
  {
   "cell_type": "code",
   "execution_count": null,
   "metadata": {
    "id": "MhTtmt_G-S_L"
   },
   "outputs": [],
   "source": [
    "#Features: all columns except last one\n",
    "X = df.iloc[:,df.columns != 'Default']\n",
    "#target is default.payment.next.month\n",
    "y = df['Default']"
   ]
  },
  {
   "cell_type": "code",
   "execution_count": null,
   "metadata": {
    "id": "DTyvc7gADzAA"
   },
   "outputs": [],
   "source": [
    "#split into training and testing sets\n",
    "X_train, X_test, y_train, y_test = train_test_split(X, y, test_size=0.3, random_state=10)"
   ]
  },
  {
   "cell_type": "code",
   "execution_count": null,
   "metadata": {
    "colab": {
     "base_uri": "https://localhost:8080/",
     "height": 35
    },
    "id": "VWsn43zuEcCg",
    "outputId": "9cfa85a0-4f22-44ac-bef4-4638ad5ce221"
   },
   "outputs": [
    {
     "data": {
      "application/vnd.google.colaboratory.intrinsic+json": {
       "type": "string"
      },
      "text/plain": [
       "'\\nprint(X_train)\\nprint(y_train)\\nprint(X_test)\\nprint(y_test)\\n'"
      ]
     },
     "execution_count": 16,
     "metadata": {
      "tags": []
     },
     "output_type": "execute_result"
    }
   ],
   "source": [
    "'''\n",
    "print(X_train)\n",
    "print(y_train)\n",
    "print(X_test)\n",
    "print(y_test)\n",
    "'''"
   ]
  },
  {
   "cell_type": "markdown",
   "metadata": {
    "id": "kZiKrdJ0A6eO"
   },
   "source": [
    "#### Instantiate LR model"
   ]
  },
  {
   "cell_type": "code",
   "execution_count": null,
   "metadata": {
    "id": "yYCILUWsFWAw"
   },
   "outputs": [],
   "source": [
    "#TOTAL NO. of ITERATIONS REACHED LIMIT, set max_iter to 500\n",
    "LR_model = LogisticRegression(max_iter=500,random_state=0)"
   ]
  },
  {
   "cell_type": "code",
   "execution_count": null,
   "metadata": {
    "colab": {
     "base_uri": "https://localhost:8080/"
    },
    "id": "-xfqZ_L7F1u6",
    "outputId": "77ab16ab-72c0-4fb3-dd9d-fb9224c773ef"
   },
   "outputs": [
    {
     "data": {
      "text/plain": [
       "LogisticRegression(C=1.0, class_weight=None, dual=False, fit_intercept=True,\n",
       "                   intercept_scaling=1, l1_ratio=None, max_iter=500,\n",
       "                   multi_class='auto', n_jobs=None, penalty='l2',\n",
       "                   random_state=0, solver='lbfgs', tol=0.0001, verbose=0,\n",
       "                   warm_start=False)"
      ]
     },
     "execution_count": 18,
     "metadata": {
      "tags": []
     },
     "output_type": "execute_result"
    }
   ],
   "source": [
    "#fit the model\n",
    "LR_model.fit(X_train, y_train)"
   ]
  },
  {
   "cell_type": "code",
   "execution_count": null,
   "metadata": {
    "id": "CQYIY_XLHp49"
   },
   "outputs": [],
   "source": [
    "#model prediction\n",
    "LR_pred = LR_model.predict(X_test)\n",
    "#prediction probabilities\n",
    "LR_prob_pred = LR_model.predict_proba(X_test)"
   ]
  },
  {
   "cell_type": "markdown",
   "metadata": {
    "id": "05V5e0k9I7GM"
   },
   "source": [
    "### LR-Model Evaluation"
   ]
  },
  {
   "cell_type": "code",
   "execution_count": null,
   "metadata": {
    "colab": {
     "base_uri": "https://localhost:8080/"
    },
    "id": "zb_suRbWgRaN",
    "outputId": "2b2a67cd-e314-4e45-e2b5-1e9d13acb103"
   },
   "outputs": [
    {
     "name": "stdout",
     "output_type": "stream",
     "text": [
      "The score of decision tree model is 0.7756\n"
     ]
    }
   ],
   "source": [
    "#model score\n",
    "print('The score of decision tree model is {:.4f}'.format(LR_model.score(X_test,y_test)))"
   ]
  },
  {
   "cell_type": "code",
   "execution_count": null,
   "metadata": {
    "colab": {
     "base_uri": "https://localhost:8080/"
    },
    "id": "JTFol1TdJAm0",
    "outputId": "b153e64b-12db-48db-f765-a433c147b968"
   },
   "outputs": [
    {
     "name": "stdout",
     "output_type": "stream",
     "text": [
      "The accuracy score of the Logistic Regression Classifier is 0.7756\n"
     ]
    }
   ],
   "source": [
    "#accuracy score\n",
    "LR_accu = accuracy_score(y_test, LR_pred)\n",
    "print(\"The accuracy score of the Logistic Regression Classifier is {:.4f}\".format(LR_accu))"
   ]
  },
  {
   "cell_type": "code",
   "execution_count": null,
   "metadata": {
    "colab": {
     "base_uri": "https://localhost:8080/"
    },
    "id": "O_G38HECV3uJ",
    "outputId": "89160b6f-1d9f-46e5-b525-1a675c23bf38"
   },
   "outputs": [
    {
     "name": "stdout",
     "output_type": "stream",
     "text": [
      "The precision score of the Logistic Regression Classifier is 0.2500\n"
     ]
    }
   ],
   "source": [
    "#precision score\n",
    "LR_preci = precision_score(y_test,LR_pred)\n",
    "print(\"The precision score of the Logistic Regression Classifier is {:.4f}\".format(LR_preci))"
   ]
  },
  {
   "cell_type": "code",
   "execution_count": null,
   "metadata": {
    "colab": {
     "base_uri": "https://localhost:8080/"
    },
    "id": "d4m5X3xKLI5e",
    "outputId": "5ff5e20b-f3d1-496a-900e-e510a5d8f634"
   },
   "outputs": [
    {
     "data": {
      "text/plain": [
       "array([[6979,    3],\n",
       "       [2017,    1]])"
      ]
     },
     "execution_count": 23,
     "metadata": {
      "tags": []
     },
     "output_type": "execute_result"
    }
   ],
   "source": [
    "#confusion matrix\n",
    "confusion_matrix(y_test, LR_pred)"
   ]
  },
  {
   "cell_type": "markdown",
   "metadata": {
    "id": "7mUCaPaGNDA2"
   },
   "source": [
    "The accuracy test shows a 0.78 accuracy. Confusion matrix shows the Logistic Regression model correctly predict all case where default payment is 0 (no default payment), but does not correctly predict where default payment is 1 (there is default payment). \n",
    "\n",
    "It is possible that there is too many predictors, hence trying Ridge Classifier."
   ]
  },
  {
   "cell_type": "markdown",
   "metadata": {
    "id": "HoAI8SosP7xl"
   },
   "source": [
    "##Ridge Classifier"
   ]
  },
  {
   "cell_type": "code",
   "execution_count": null,
   "metadata": {
    "id": "9ijCLa66OnMa"
   },
   "outputs": [],
   "source": [
    "#Ridge model\n",
    "Ridge_model = RidgeClassifier(max_iter=500)\n",
    "#fit the model\n",
    "Ridge_model.fit(X_train, y_train)\n",
    "#make predication\n",
    "Ridge_pred = Ridge_model.predict(X_test)"
   ]
  },
  {
   "cell_type": "code",
   "execution_count": null,
   "metadata": {
    "colab": {
     "base_uri": "https://localhost:8080/"
    },
    "id": "KjkjHV29gCUM",
    "outputId": "b87fead3-2219-4e8c-8cda-6759eb15e988"
   },
   "outputs": [
    {
     "name": "stdout",
     "output_type": "stream",
     "text": [
      "The score of ridge classifier is 0.7964\n"
     ]
    }
   ],
   "source": [
    "#model score\n",
    "print('The score of ridge classifier is {:.4f}'.format(Ridge_model.score(X_test,y_test)))"
   ]
  },
  {
   "cell_type": "markdown",
   "metadata": {
    "id": "eAznhCKLQAIx"
   },
   "source": [
    "#### Ridge Classifier-Model Evaluation"
   ]
  },
  {
   "cell_type": "code",
   "execution_count": null,
   "metadata": {
    "colab": {
     "base_uri": "https://localhost:8080/"
    },
    "id": "hyzqSyrQP3v5",
    "outputId": "6f335458-8059-4302-fc43-fc515616b0e0"
   },
   "outputs": [
    {
     "name": "stdout",
     "output_type": "stream",
     "text": [
      "The accuracy of the Ridge Classifier is 0.7964\n"
     ]
    }
   ],
   "source": [
    "#accuracy score\n",
    "Ridge_accu = accuracy_score(Ridge_pred,y_test)\n",
    "print(\"The accuracy of the Ridge Classifier is {:.4f}\".format(Ridge_accu))"
   ]
  },
  {
   "cell_type": "code",
   "execution_count": null,
   "metadata": {
    "colab": {
     "base_uri": "https://localhost:8080/"
    },
    "id": "QpMLpLuFWs7L",
    "outputId": "4fac36c2-0b50-4088-e779-f166208ffa84"
   },
   "outputs": [
    {
     "name": "stdout",
     "output_type": "stream",
     "text": [
      "The precision score of the Ridge Classifier is 0.7500\n"
     ]
    }
   ],
   "source": [
    "#precision score\n",
    "Ridge_preci = precision_score(y_test,Ridge_pred)\n",
    "print(\"The precision score of the Ridge Classifier is {:.4f}\".format(Ridge_preci))"
   ]
  },
  {
   "cell_type": "code",
   "execution_count": null,
   "metadata": {
    "colab": {
     "base_uri": "https://localhost:8080/"
    },
    "id": "1qq8LDXCQJhJ",
    "outputId": "354e5600-2953-47dd-d9cb-18bf3b683b4c"
   },
   "outputs": [
    {
     "data": {
      "text/plain": [
       "array([[6889,   93],\n",
       "       [1739,  279]])"
      ]
     },
     "execution_count": 28,
     "metadata": {
      "tags": []
     },
     "output_type": "execute_result"
    }
   ],
   "source": [
    "#confusion matrix\n",
    "confusion_matrix(y_test, Ridge_pred)"
   ]
  },
  {
   "cell_type": "markdown",
   "metadata": {
    "id": "7s0y1GilLTHc"
   },
   "source": [
    "## Decision Tree Classifier"
   ]
  },
  {
   "cell_type": "markdown",
   "metadata": {
    "id": "zL71woPnLiBX"
   },
   "source": [
    "### Build Model"
   ]
  },
  {
   "cell_type": "code",
   "execution_count": null,
   "metadata": {
    "colab": {
     "base_uri": "https://localhost:8080/"
    },
    "id": "3mYhitOOLu5x",
    "outputId": "00f8a06d-e2a9-49b9-97e2-26a3ed49b8d5"
   },
   "outputs": [
    {
     "data": {
      "text/plain": [
       "DecisionTreeClassifier(ccp_alpha=0.0, class_weight=None, criterion='gini',\n",
       "                       max_depth=None, max_features=None, max_leaf_nodes=None,\n",
       "                       min_impurity_decrease=0.0, min_impurity_split=None,\n",
       "                       min_samples_leaf=10, min_samples_split=50,\n",
       "                       min_weight_fraction_leaf=0.0, presort='deprecated',\n",
       "                       random_state=10, splitter='best')"
      ]
     },
     "execution_count": 29,
     "metadata": {
      "tags": []
     },
     "output_type": "execute_result"
    }
   ],
   "source": [
    "dc = DecisionTreeClassifier(min_samples_split=50,min_samples_leaf=10,random_state=10)\n",
    "dc.fit(X_train,y_train)"
   ]
  },
  {
   "cell_type": "code",
   "execution_count": null,
   "metadata": {
    "colab": {
     "base_uri": "https://localhost:8080/"
    },
    "id": "GYPp1qamfn1f",
    "outputId": "be1b0b1f-a589-45fe-a364-a02b0557a511"
   },
   "outputs": [
    {
     "name": "stdout",
     "output_type": "stream",
     "text": [
      "The score of decision tree model is 0.7941\n"
     ]
    }
   ],
   "source": [
    "#model score\n",
    "print('The score of decision tree model is {:.4f}'.format(dc.score(X_test,y_test)))"
   ]
  },
  {
   "cell_type": "markdown",
   "metadata": {
    "id": "ihCQp89GLz2G"
   },
   "source": [
    "#### DecisionTreeClassifier-Model Evaluation"
   ]
  },
  {
   "cell_type": "code",
   "execution_count": null,
   "metadata": {
    "id": "jgLMNiifL2ZT"
   },
   "outputs": [],
   "source": [
    "pred = dc.predict(X_test)\n",
    "metrics = pd.DataFrame(index=['accuracy','precision','recall'],\n",
    "                       columns =['DecisionTree'])\n",
    "metrics.loc['accuracy','DecisionTree'] = accuracy_score(y_pred= pred, y_true=y_test)\n",
    "metrics.loc['precision','DecisionTree'] = precision_score(y_pred= pred, y_true=y_test)\n",
    "metrics.loc['recall','DecisionTree'] = recall_score(y_pred= pred, y_true=y_test)"
   ]
  },
  {
   "cell_type": "code",
   "execution_count": null,
   "metadata": {
    "colab": {
     "base_uri": "https://localhost:8080/"
    },
    "id": "z-dhPM05NIHv",
    "outputId": "0322b71b-e161-4b9e-f148-7b66dfc7b374"
   },
   "outputs": [
    {
     "data": {
      "text/plain": [
       "array([[6442,  540],\n",
       "       [1313,  705]])"
      ]
     },
     "execution_count": 32,
     "metadata": {
      "tags": []
     },
     "output_type": "execute_result"
    }
   ],
   "source": [
    "CM = confusion_matrix(y_pred= pred, y_true=y_test)\n",
    "CM"
   ]
  },
  {
   "cell_type": "code",
   "execution_count": null,
   "metadata": {
    "colab": {
     "base_uri": "https://localhost:8080/",
     "height": 142
    },
    "id": "TG27ikuaNNYc",
    "outputId": "eaa17047-66ae-4d3e-eb47-9da15fbf714d"
   },
   "outputs": [
    {
     "data": {
      "text/html": [
       "<div>\n",
       "<style scoped>\n",
       "    .dataframe tbody tr th:only-of-type {\n",
       "        vertical-align: middle;\n",
       "    }\n",
       "\n",
       "    .dataframe tbody tr th {\n",
       "        vertical-align: top;\n",
       "    }\n",
       "\n",
       "    .dataframe thead th {\n",
       "        text-align: right;\n",
       "    }\n",
       "</style>\n",
       "<table border=\"1\" class=\"dataframe\">\n",
       "  <thead>\n",
       "    <tr style=\"text-align: right;\">\n",
       "      <th></th>\n",
       "      <th>DecisionTree</th>\n",
       "    </tr>\n",
       "  </thead>\n",
       "  <tbody>\n",
       "    <tr>\n",
       "      <th>accuracy</th>\n",
       "      <td>79.4111</td>\n",
       "    </tr>\n",
       "    <tr>\n",
       "      <th>precision</th>\n",
       "      <td>56.6265</td>\n",
       "    </tr>\n",
       "    <tr>\n",
       "      <th>recall</th>\n",
       "      <td>34.9356</td>\n",
       "    </tr>\n",
       "  </tbody>\n",
       "</table>\n",
       "</div>"
      ],
      "text/plain": [
       "          DecisionTree\n",
       "accuracy       79.4111\n",
       "precision      56.6265\n",
       "recall         34.9356"
      ]
     },
     "execution_count": 33,
     "metadata": {
      "tags": []
     },
     "output_type": "execute_result"
    }
   ],
   "source": [
    "metrics*100"
   ]
  },
  {
   "cell_type": "code",
   "execution_count": null,
   "metadata": {
    "colab": {
     "base_uri": "https://localhost:8080/"
    },
    "id": "QofabRFqNOvd",
    "outputId": "37aca3d6-b373-42f1-8556-da3358e956b8"
   },
   "outputs": [
    {
     "name": "stdout",
     "output_type": "stream",
     "text": [
      "              precision    recall  f1-score   support\n",
      "\n",
      "           0       0.83      0.92      0.87      6982\n",
      "           1       0.57      0.35      0.43      2018\n",
      "\n",
      "    accuracy                           0.79      9000\n",
      "   macro avg       0.70      0.64      0.65      9000\n",
      "weighted avg       0.77      0.79      0.78      9000\n",
      "\n"
     ]
    }
   ],
   "source": [
    "print(classification_report(y_test,pred))"
   ]
  },
  {
   "cell_type": "markdown",
   "metadata": {
    "id": "TWGP5baMbsQR"
   },
   "source": [
    "## Random Forest Classification with Grid Search"
   ]
  },
  {
   "cell_type": "code",
   "execution_count": null,
   "metadata": {
    "colab": {
     "base_uri": "https://localhost:8080/"
    },
    "id": "VgJD_JPXIoZK",
    "outputId": "503ed363-26d5-42d3-eb98-20243105babd"
   },
   "outputs": [
    {
     "name": "stdout",
     "output_type": "stream",
     "text": [
      "RandomForestClassifier(bootstrap=True, ccp_alpha=0.0, class_weight=None,\n",
      "                       criterion='gini', max_depth=None, max_features='auto',\n",
      "                       max_leaf_nodes=None, max_samples=None,\n",
      "                       min_impurity_decrease=0.0, min_impurity_split=None,\n",
      "                       min_samples_leaf=1, min_samples_split=2,\n",
      "                       min_weight_fraction_leaf=0.0, n_estimators=100,\n",
      "                       n_jobs=None, oob_score=False, random_state=10, verbose=0,\n",
      "                       warm_start=False)\n"
     ]
    }
   ],
   "source": [
    "rfc = RandomForestClassifier(random_state=10)\n",
    "pprint(rfc)"
   ]
  },
  {
   "cell_type": "markdown",
   "metadata": {
    "id": "s585ZpytIYU6"
   },
   "source": [
    "### Exhaustive Grid search(1)"
   ]
  },
  {
   "cell_type": "code",
   "execution_count": null,
   "metadata": {
    "colab": {
     "base_uri": "https://localhost:8080/"
    },
    "id": "X2ra6GrlIWxu",
    "outputId": "4c5d7944-8b76-4fb4-f9c8-66ca05f5ad21"
   },
   "outputs": [
    {
     "name": "stdout",
     "output_type": "stream",
     "text": [
      "Fitting 5 folds for each of 4 candidates, totalling 20 fits\n"
     ]
    },
    {
     "name": "stderr",
     "output_type": "stream",
     "text": [
      "[Parallel(n_jobs=-1)]: Using backend LokyBackend with 2 concurrent workers.\n",
      "[Parallel(n_jobs=-1)]: Done  20 out of  20 | elapsed:  1.1min finished\n"
     ]
    }
   ],
   "source": [
    "n_estimators = [100, 300]\n",
    "max_depth = [5, 8]\n",
    "\n",
    "\n",
    "param_grid = dict(n_estimators = n_estimators, max_depth = max_depth)\n",
    "\n",
    "\n",
    "rfc_cv = GridSearchCV(estimator = rfc, param_grid = param_grid, verbose = 3, \n",
    "                      n_jobs = -1, cv = 5)\n",
    "\n",
    "best_rfc = rfc_cv.fit(X_train,y_train)"
   ]
  },
  {
   "cell_type": "code",
   "execution_count": null,
   "metadata": {
    "colab": {
     "base_uri": "https://localhost:8080/"
    },
    "id": "vLO_ZbEHbh0M",
    "outputId": "105bdb5f-0d69-4b59-fa8a-d081671c944f"
   },
   "outputs": [
    {
     "name": "stdout",
     "output_type": "stream",
     "text": [
      "The top performing model has parameters of {'max_depth': 8, 'n_estimators': 300}\n",
      "The score of the top performing model is 0.8205\n"
     ]
    }
   ],
   "source": [
    "print('The top performing model has parameters of {}'.format( best_rfc.best_params_))\n",
    "print('The score of the top performing model is {:.4f}'.format(best_rfc.best_score_))\n"
   ]
  },
  {
   "cell_type": "code",
   "execution_count": null,
   "metadata": {
    "id": "vOUH5sC_D6p_"
   },
   "outputs": [],
   "source": [
    "#build the top model\n",
    "top_rfc = RandomForestClassifier(n_estimators = 100,max_depth = 8, random_state=10)\n",
    "#trainig the model\n",
    "top_rfc.fit(X_train,y_train)\n",
    "#make prediction\n",
    "top_pred = top_rfc.predict(X_test)"
   ]
  },
  {
   "cell_type": "markdown",
   "metadata": {
    "id": "aRYCeBKuE6ZX"
   },
   "source": [
    "#### RandomForestClassifier(Grid Search-1)-Model Evaluation"
   ]
  },
  {
   "cell_type": "code",
   "execution_count": null,
   "metadata": {
    "colab": {
     "base_uri": "https://localhost:8080/"
    },
    "id": "ZaK3y4j3E3ON",
    "outputId": "caa8ca99-f7e4-4a49-c554-1d3c1f10675a"
   },
   "outputs": [
    {
     "name": "stdout",
     "output_type": "stream",
     "text": [
      "The accuracy of RF Classifier with grid search(1) is 0.8203\n"
     ]
    }
   ],
   "source": [
    "#accuracy score\n",
    "top_accu = accuracy_score(y_test,top_pred)\n",
    "print(\"The accuracy of RF Classifier with grid search(1) is {:.4f}\".format(top_accu))"
   ]
  },
  {
   "cell_type": "code",
   "execution_count": null,
   "metadata": {
    "colab": {
     "base_uri": "https://localhost:8080/"
    },
    "id": "5vOOwYnSFKTq",
    "outputId": "f0dc079a-78c3-49a2-9f5f-fdac9dd6cb02"
   },
   "outputs": [
    {
     "name": "stdout",
     "output_type": "stream",
     "text": [
      "The precision score of RF Classifier with grid search(1) is 0.6968\n"
     ]
    }
   ],
   "source": [
    "#precision score\n",
    "top_preci = precision_score(y_test,top_pred)\n",
    "print(\"The precision score of RF Classifier with grid search(1) is {:.4f}\".format(top_preci))"
   ]
  },
  {
   "cell_type": "code",
   "execution_count": null,
   "metadata": {
    "colab": {
     "base_uri": "https://localhost:8080/"
    },
    "id": "VFUn4GF3FYAJ",
    "outputId": "c3b45fbe-9fe6-4dd5-a754-13a62738b1d1"
   },
   "outputs": [
    {
     "data": {
      "text/plain": [
       "array([[6673,  309],\n",
       "       [1308,  710]])"
      ]
     },
     "execution_count": 41,
     "metadata": {
      "tags": []
     },
     "output_type": "execute_result"
    }
   ],
   "source": [
    "confusion_matrix(y_test,top_pred)"
   ]
  },
  {
   "cell_type": "code",
   "execution_count": null,
   "metadata": {
    "colab": {
     "base_uri": "https://localhost:8080/",
     "height": 173
    },
    "id": "rzzpYYycF4gt",
    "outputId": "97e2c53d-a546-46a6-93ff-40a914f24c2c"
   },
   "outputs": [
    {
     "data": {
      "text/html": [
       "<div>\n",
       "<style scoped>\n",
       "    .dataframe tbody tr th:only-of-type {\n",
       "        vertical-align: middle;\n",
       "    }\n",
       "\n",
       "    .dataframe tbody tr th {\n",
       "        vertical-align: top;\n",
       "    }\n",
       "\n",
       "    .dataframe thead th {\n",
       "        text-align: right;\n",
       "    }\n",
       "</style>\n",
       "<table border=\"1\" class=\"dataframe\">\n",
       "  <thead>\n",
       "    <tr style=\"text-align: right;\">\n",
       "      <th>Predicted</th>\n",
       "      <th>0</th>\n",
       "      <th>1</th>\n",
       "      <th>All</th>\n",
       "    </tr>\n",
       "    <tr>\n",
       "      <th>True</th>\n",
       "      <th></th>\n",
       "      <th></th>\n",
       "      <th></th>\n",
       "    </tr>\n",
       "  </thead>\n",
       "  <tbody>\n",
       "    <tr>\n",
       "      <th>0</th>\n",
       "      <td>6673</td>\n",
       "      <td>309</td>\n",
       "      <td>6982</td>\n",
       "    </tr>\n",
       "    <tr>\n",
       "      <th>1</th>\n",
       "      <td>1308</td>\n",
       "      <td>710</td>\n",
       "      <td>2018</td>\n",
       "    </tr>\n",
       "    <tr>\n",
       "      <th>All</th>\n",
       "      <td>7981</td>\n",
       "      <td>1019</td>\n",
       "      <td>9000</td>\n",
       "    </tr>\n",
       "  </tbody>\n",
       "</table>\n",
       "</div>"
      ],
      "text/plain": [
       "Predicted     0     1   All\n",
       "True                       \n",
       "0          6673   309  6982\n",
       "1          1308   710  2018\n",
       "All        7981  1019  9000"
      ]
     },
     "execution_count": 42,
     "metadata": {
      "tags": []
     },
     "output_type": "execute_result"
    }
   ],
   "source": [
    "pd.crosstab(y_test, top_pred, rownames=['True'], colnames=['Predicted'], margins=True)"
   ]
  },
  {
   "cell_type": "markdown",
   "metadata": {
    "id": "jj7SPPXoRCLb"
   },
   "source": [
    "### Exhaustive Grid search(2)"
   ]
  },
  {
   "cell_type": "code",
   "execution_count": null,
   "metadata": {
    "id": "AXDxJ3o8_oxP"
   },
   "outputs": [],
   "source": [
    "#20 mins to run...\n",
    "n_estimators = [800, 1200]\n",
    "max_depth = [25, 30]\n",
    "min_samples_split = [15, 100]\n",
    "\n",
    "\n",
    "param_grid = dict(n_estimators = n_estimators, max_depth = max_depth,  \n",
    "              min_samples_split = min_samples_split)\n",
    "\n",
    "\n",
    "rfc_cv = GridSearchCV(estimator = rfc, param_grid = param_grid, verbose = 3, \n",
    "                      n_jobs = -1, cv = 5)\n"
   ]
  },
  {
   "cell_type": "code",
   "execution_count": null,
   "metadata": {
    "colab": {
     "base_uri": "https://localhost:8080/"
    },
    "id": "v6BDq52MUXm6",
    "outputId": "d27b9aad-9a21-43fa-aca4-31bed9c05325"
   },
   "outputs": [
    {
     "name": "stdout",
     "output_type": "stream",
     "text": [
      "Fitting 5 folds for each of 8 candidates, totalling 40 fits\n"
     ]
    },
    {
     "name": "stderr",
     "output_type": "stream",
     "text": [
      "[Parallel(n_jobs=-1)]: Using backend LokyBackend with 2 concurrent workers.\n",
      "/usr/local/lib/python3.7/dist-packages/joblib/externals/loky/process_executor.py:691: UserWarning: A worker stopped while some jobs were given to the executor. This can be caused by a too short worker timeout or by a memory leak.\n",
      "  \"timeout or by a memory leak.\", UserWarning\n",
      "[Parallel(n_jobs=-1)]: Done  28 tasks      | elapsed: 16.4min\n",
      "[Parallel(n_jobs=-1)]: Done  40 out of  40 | elapsed: 22.6min finished\n"
     ]
    }
   ],
   "source": [
    "best_rfc2 = rfc_cv.fit(X_train,y_train)"
   ]
  },
  {
   "cell_type": "code",
   "execution_count": null,
   "metadata": {
    "colab": {
     "base_uri": "https://localhost:8080/"
    },
    "id": "pVEc9jIGZkPg",
    "outputId": "14a245dd-7272-4369-aa24-2c70d88b07e4"
   },
   "outputs": [
    {
     "name": "stdout",
     "output_type": "stream",
     "text": [
      "The top performing model has parameters of {'max_depth': 25, 'min_samples_split': 100, 'n_estimators': 800}\n",
      "The score of the top performing model is 0.8217\n"
     ]
    }
   ],
   "source": [
    "print('The top performing model has parameters of {}'.format( best_rfc2.best_params_))\n",
    "print('The score of the top performing model is {:.4f}'.format(best_rfc2.best_score_))\n"
   ]
  },
  {
   "cell_type": "code",
   "execution_count": null,
   "metadata": {
    "id": "NIsrrDzrZ7M1"
   },
   "outputs": [],
   "source": [
    "#build the top model\n",
    "top_rfc2 = RandomForestClassifier(n_estimators = 800,max_depth = 30, min_samples_split=100,random_state=10)\n",
    "#trainig the model\n",
    "top_rfc2.fit(X_train,y_train)\n",
    "#make prediction\n",
    "top_pred2 = top_rfc2.predict(X_test)"
   ]
  },
  {
   "cell_type": "markdown",
   "metadata": {
    "id": "vGyZZFX_Q5EG"
   },
   "source": [
    "#### RandomForestClassifier-Model Evaluation"
   ]
  },
  {
   "cell_type": "code",
   "execution_count": null,
   "metadata": {
    "colab": {
     "base_uri": "https://localhost:8080/"
    },
    "id": "CDcAf9dvZw-o",
    "outputId": "91d462b8-46a9-4416-e86a-5bbb21d097d1"
   },
   "outputs": [
    {
     "name": "stdout",
     "output_type": "stream",
     "text": [
      "The accuracy of RF Classifier with grid search(1) is 0.8214\n"
     ]
    }
   ],
   "source": [
    "#accuracy score\n",
    "top_accu2 = accuracy_score(y_test,top_pred2)\n",
    "print(\"The accuracy of RF Classifier with grid search(1) is {:.4f}\".format(top_accu2))"
   ]
  },
  {
   "cell_type": "code",
   "execution_count": null,
   "metadata": {
    "colab": {
     "base_uri": "https://localhost:8080/"
    },
    "id": "yjot5dpiaXI3",
    "outputId": "2dbb5802-1fe2-414d-86fd-475c1315548a"
   },
   "outputs": [
    {
     "name": "stdout",
     "output_type": "stream",
     "text": [
      "The precision score of RF Classifier with grid search(1) is 0.6952\n"
     ]
    }
   ],
   "source": [
    "#precision score\n",
    "top_preci2 = precision_score(y_test,top_pred2)\n",
    "print(\"The precision score of RF Classifier with grid search(1) is {:.4f}\".format(top_preci2))"
   ]
  },
  {
   "cell_type": "code",
   "execution_count": null,
   "metadata": {
    "colab": {
     "base_uri": "https://localhost:8080/"
    },
    "id": "8Ls4LTMHaaHS",
    "outputId": "712196a1-ad29-45dc-96a9-1c4714eeb75e"
   },
   "outputs": [
    {
     "data": {
      "text/plain": [
       "array([[6661,  321],\n",
       "       [1286,  732]])"
      ]
     },
     "execution_count": 49,
     "metadata": {
      "tags": []
     },
     "output_type": "execute_result"
    }
   ],
   "source": [
    "confusion_matrix(y_test,top_pred2)"
   ]
  },
  {
   "cell_type": "code",
   "execution_count": null,
   "metadata": {
    "colab": {
     "base_uri": "https://localhost:8080/",
     "height": 173
    },
    "id": "DVmxWayWadhz",
    "outputId": "505eedbb-1c0b-46fc-e244-9d55d9431f2f"
   },
   "outputs": [
    {
     "data": {
      "text/html": [
       "<div>\n",
       "<style scoped>\n",
       "    .dataframe tbody tr th:only-of-type {\n",
       "        vertical-align: middle;\n",
       "    }\n",
       "\n",
       "    .dataframe tbody tr th {\n",
       "        vertical-align: top;\n",
       "    }\n",
       "\n",
       "    .dataframe thead th {\n",
       "        text-align: right;\n",
       "    }\n",
       "</style>\n",
       "<table border=\"1\" class=\"dataframe\">\n",
       "  <thead>\n",
       "    <tr style=\"text-align: right;\">\n",
       "      <th>Predicted</th>\n",
       "      <th>0</th>\n",
       "      <th>1</th>\n",
       "      <th>All</th>\n",
       "    </tr>\n",
       "    <tr>\n",
       "      <th>True</th>\n",
       "      <th></th>\n",
       "      <th></th>\n",
       "      <th></th>\n",
       "    </tr>\n",
       "  </thead>\n",
       "  <tbody>\n",
       "    <tr>\n",
       "      <th>0</th>\n",
       "      <td>6661</td>\n",
       "      <td>321</td>\n",
       "      <td>6982</td>\n",
       "    </tr>\n",
       "    <tr>\n",
       "      <th>1</th>\n",
       "      <td>1286</td>\n",
       "      <td>732</td>\n",
       "      <td>2018</td>\n",
       "    </tr>\n",
       "    <tr>\n",
       "      <th>All</th>\n",
       "      <td>7947</td>\n",
       "      <td>1053</td>\n",
       "      <td>9000</td>\n",
       "    </tr>\n",
       "  </tbody>\n",
       "</table>\n",
       "</div>"
      ],
      "text/plain": [
       "Predicted     0     1   All\n",
       "True                       \n",
       "0          6661   321  6982\n",
       "1          1286   732  2018\n",
       "All        7947  1053  9000"
      ]
     },
     "execution_count": 50,
     "metadata": {
      "tags": []
     },
     "output_type": "execute_result"
    }
   ],
   "source": [
    "pd.crosstab(y_test, top_pred2, rownames=['True'], colnames=['Predicted'], margins=True)"
   ]
  },
  {
   "cell_type": "markdown",
   "metadata": {
    "id": "g01CD9Pdcsq5"
   },
   "source": [
    "## Top performing models"
   ]
  },
  {
   "cell_type": "code",
   "execution_count": null,
   "metadata": {
    "id": "pUGdkqhue5Jy"
   },
   "outputs": [],
   "source": [
    "metrics = pd.DataFrame(index=['accuracy','precision','recall'],\n",
    "                       columns =['Decision Tree','Logistic Regression',\n",
    "                                 'Ridge Classification','RFC(grid search 1)',\n",
    "                                 'RFC(grid search 2)'])\n",
    "metrics.loc['accuracy','Decision Tree'] = accuracy_score(y_pred= pred, y_true=y_test).round(4)\n",
    "metrics.loc['precision','Decision Tree'] = precision_score(y_pred= pred, y_true=y_test).round(4)\n",
    "metrics.loc['recall','Decision Tree'] = recall_score(y_pred= pred, y_true=y_test).round(4)\n",
    "\n",
    "metrics.loc['accuracy','Ridge Classification'] = Ridge_accu.round(4)\n",
    "metrics.loc['precision','Ridge Classification'] = Ridge_preci.round(4)\n",
    "metrics.loc['recall','Ridge Classification'] = recall_score(y_pred= Ridge_pred, y_true=y_test).round(4)\n",
    "\n",
    "metrics.loc['accuracy','Logistic Regression'] = LR_accu.round(4)\n",
    "metrics.loc['precision','Logistic Regression'] = LR_preci.round(4)\n",
    "metrics.loc['recall','Logistic Regression'] = recall_score(y_pred= LR_pred, y_true=y_test).round(4)\n",
    "\n",
    "metrics.loc['accuracy','RFC(grid search 1)'] = top_accu.round(4)\n",
    "metrics.loc['precision','RFC(grid search 1)'] = top_preci.round(4)\n",
    "metrics.loc['recall','RFC(grid search 1)'] = recall_score(y_pred= top_pred, y_true=y_test).round(4)\n",
    "\n",
    "metrics.loc['accuracy','RFC(grid search 2)'] = top_accu2.round(4)\n",
    "metrics.loc['precision','RFC(grid search 2)'] = top_preci2.round(4)\n",
    "metrics.loc['recall','RFC(grid search 2)'] = recall_score(y_pred= top_pred2, y_true=y_test).round(4)"
   ]
  },
  {
   "cell_type": "code",
   "execution_count": null,
   "metadata": {
    "colab": {
     "base_uri": "https://localhost:8080/",
     "height": 142
    },
    "id": "e5ljABMbhVUB",
    "outputId": "bad0c301-572b-4064-d427-a1cab101a119"
   },
   "outputs": [
    {
     "data": {
      "text/html": [
       "<div>\n",
       "<style scoped>\n",
       "    .dataframe tbody tr th:only-of-type {\n",
       "        vertical-align: middle;\n",
       "    }\n",
       "\n",
       "    .dataframe tbody tr th {\n",
       "        vertical-align: top;\n",
       "    }\n",
       "\n",
       "    .dataframe thead th {\n",
       "        text-align: right;\n",
       "    }\n",
       "</style>\n",
       "<table border=\"1\" class=\"dataframe\">\n",
       "  <thead>\n",
       "    <tr style=\"text-align: right;\">\n",
       "      <th></th>\n",
       "      <th>Decision Tree</th>\n",
       "      <th>Logistic Regression</th>\n",
       "      <th>Ridge Classification</th>\n",
       "      <th>RFC(grid search 1)</th>\n",
       "      <th>RFC(grid search 2)</th>\n",
       "    </tr>\n",
       "  </thead>\n",
       "  <tbody>\n",
       "    <tr>\n",
       "      <th>accuracy</th>\n",
       "      <td>0.7941</td>\n",
       "      <td>0.7756</td>\n",
       "      <td>0.7964</td>\n",
       "      <td>0.8203</td>\n",
       "      <td>0.8214</td>\n",
       "    </tr>\n",
       "    <tr>\n",
       "      <th>precision</th>\n",
       "      <td>0.5663</td>\n",
       "      <td>0.25</td>\n",
       "      <td>0.75</td>\n",
       "      <td>0.6968</td>\n",
       "      <td>0.6952</td>\n",
       "    </tr>\n",
       "    <tr>\n",
       "      <th>recall</th>\n",
       "      <td>0.3494</td>\n",
       "      <td>0.0005</td>\n",
       "      <td>0.1383</td>\n",
       "      <td>0.3518</td>\n",
       "      <td>0.3627</td>\n",
       "    </tr>\n",
       "  </tbody>\n",
       "</table>\n",
       "</div>"
      ],
      "text/plain": [
       "          Decision Tree  ... RFC(grid search 2)\n",
       "accuracy         0.7941  ...             0.8214\n",
       "precision        0.5663  ...             0.6952\n",
       "recall           0.3494  ...             0.3627\n",
       "\n",
       "[3 rows x 5 columns]"
      ]
     },
     "execution_count": 52,
     "metadata": {
      "tags": []
     },
     "output_type": "execute_result"
    }
   ],
   "source": [
    "metrics"
   ]
  },
  {
   "cell_type": "markdown",
   "metadata": {
    "id": "YQkLxU48WIEc"
   },
   "source": [
    "## Model conclusions"
   ]
  },
  {
   "cell_type": "markdown",
   "metadata": {
    "id": "Ot0ysumLUanU"
   },
   "source": [
    "Top three models in accuracy scores:\n",
    "\n",
    "1. Random Forest Classification with grid search pattern two: \n",
    "  \n",
    "  The accuracy score is 0.8262, which is the highest in all models.\n",
    "  \n",
    "  We used grid search to determine the best values for `n_estimators`,`max_depth` and `min_samples_split`.\n",
    "  \n",
    "  The result shows that this model has parameters of `'max_depth': 30, 'min_samples_split': 100, 'n_estimators': 1200` and a model score of 0.8203.\n",
    "\n",
    "2. Random Forest Classification with grid search pattern one: \n",
    "  \n",
    "  The accuracy score is 0.8247, which only slightly lower than grid search pattern two model. We think it is because this model has one less parameter compare to the other grid search model\n",
    "  \n",
    "  We used grid search to determine the best values for `n_estimators` and \n",
    "`max_depth`.\n",
    "  \n",
    "  The result shows that this model has has parameters of `'max_depth': 8, 'n_estimators': 100`\n",
    "The score of the top performing model is 0.8184.\n",
    "\n",
    "3.  Ridge Classifier:\n",
    "\n",
    "  The accuracy score is 0.8062. The precision score is 0.7579. We think Ridge Classifier is overall the best model for this dataset, since it has decent accuracy and precistion at the same time. \n",
    "\n",
    "  The parameters for ridge classifier are default values except we set max_iter to 500, so it won't threw error.\n",
    "\n",
    "\n",
    "\n",
    "\n",
    "\n",
    "\n",
    "\n"
   ]
  },
  {
   "cell_type": "markdown",
   "metadata": {
    "id": "Ul0oZ7gkv4qc"
   },
   "source": [
    "# Predictions"
   ]
  },
  {
   "cell_type": "code",
   "execution_count": null,
   "metadata": {
    "id": "zINLe1vYv6TF"
   },
   "outputs": [],
   "source": [
    "predicted_values = pd.DataFrame(data = {'LIMIT_BAL': [3000,4000,5000,7000,10000],'SEX':[1,2,2,1,2],'EDUCATION':[2,2,3,4,5],'MARRIAGE':[1,2,1,2,2],\n",
    "                                        'AGE':[28,34,24,63,56],'PAY_0':[1,-1,3,-1,5],'PAY_2':[1,2,3,-1,1],'PAY_3':[-1,-1,5,7,9],'PAY_4':[-1,9,2,-1,2],\n",
    "                                        'PAY_5': [-1,1,2,4,1],'PAY_6':[-1,2,3,1,4],'BILL_AMT1':[3000,2400,4024,1356,1616],'BILL_AMT2':[400,234,616,2334,1123],\n",
    "                                        'BILL_AMT3':[160,123,758,4880,3745],'BILL_AMT4':[1616,846,3555,5646,2788],'BILL_AMT5':[1000,2030,4440,6036,9029],\n",
    "                                        'BILL_AMT6':[70,266,1234,666,7575],\n",
    "                                        'PAY_AMT1':[3000,2356,33,155,666],\n",
    "                                        'PAY_AMT2':[400,45,336,1333,334],'PAY_AMT3':[125,123,750,4880,3744],'PAY_AMT4':[1416,846,1555,5646,1788],\n",
    "                                        'PAY_AMT5':[500,2030,3440,4036,9029],'PAY_AMT6':[70,266,1234,666,7575]})\n"
   ]
  },
  {
   "cell_type": "code",
   "execution_count": null,
   "metadata": {
    "id": "zCH7aiIRx7So"
   },
   "outputs": [],
   "source": [
    "#RFC(grid search2)\n",
    "RFC2_fin = pd.DataFrame(top_rfc2.predict(predicted_values), columns = {'RFC2'}).set_index([pd.Index(predicted_values.index)])\n",
    "#RFC(grid search1)\n",
    "RFC1_fin = pd.DataFrame(top_rfc.predict(predicted_values), columns = {'RFC1'}).set_index([pd.Index(predicted_values.index)])\n",
    "#Ridge Classification\n",
    "Ridge_fin = pd.DataFrame(Ridge_model.predict(predicted_values), columns = {'Ridge'}).set_index([pd.Index(predicted_values.index)])\n",
    "#Decision tree\n",
    "#dc_fin = pd.DataFrame(dc.predict(predicted_values), columns = {'Decision tree'}).set_index([pd.Index(predicted_values.index)])\n",
    "#LR\n",
    "#LR_fin = pd.DataFrame(LR_model.predict(predicted_values), columns = {'Logit'}).set_index([pd.Index(predicted_values.index)])"
   ]
  },
  {
   "cell_type": "code",
   "execution_count": null,
   "metadata": {
    "colab": {
     "base_uri": "https://localhost:8080/",
     "height": 224
    },
    "id": "P2BGZGTZ0hPT",
    "outputId": "f05df53c-cb0b-46a3-80f0-8853ba5178fc"
   },
   "outputs": [
    {
     "data": {
      "text/html": [
       "<div>\n",
       "<style scoped>\n",
       "    .dataframe tbody tr th:only-of-type {\n",
       "        vertical-align: middle;\n",
       "    }\n",
       "\n",
       "    .dataframe tbody tr th {\n",
       "        vertical-align: top;\n",
       "    }\n",
       "\n",
       "    .dataframe thead th {\n",
       "        text-align: right;\n",
       "    }\n",
       "</style>\n",
       "<table border=\"1\" class=\"dataframe\">\n",
       "  <thead>\n",
       "    <tr style=\"text-align: right;\">\n",
       "      <th></th>\n",
       "      <th>LIMIT_BAL</th>\n",
       "      <th>SEX</th>\n",
       "      <th>EDUCATION</th>\n",
       "      <th>MARRIAGE</th>\n",
       "      <th>AGE</th>\n",
       "      <th>PAY_0</th>\n",
       "      <th>PAY_2</th>\n",
       "      <th>PAY_3</th>\n",
       "      <th>PAY_4</th>\n",
       "      <th>PAY_5</th>\n",
       "      <th>PAY_6</th>\n",
       "      <th>BILL_AMT1</th>\n",
       "      <th>BILL_AMT2</th>\n",
       "      <th>BILL_AMT3</th>\n",
       "      <th>BILL_AMT4</th>\n",
       "      <th>BILL_AMT5</th>\n",
       "      <th>BILL_AMT6</th>\n",
       "      <th>PAY_AMT1</th>\n",
       "      <th>PAY_AMT2</th>\n",
       "      <th>PAY_AMT3</th>\n",
       "      <th>PAY_AMT4</th>\n",
       "      <th>PAY_AMT5</th>\n",
       "      <th>PAY_AMT6</th>\n",
       "      <th>RFC2</th>\n",
       "      <th>RFC1</th>\n",
       "      <th>Ridge</th>\n",
       "    </tr>\n",
       "  </thead>\n",
       "  <tbody>\n",
       "    <tr>\n",
       "      <th>0</th>\n",
       "      <td>3000</td>\n",
       "      <td>1</td>\n",
       "      <td>2</td>\n",
       "      <td>1</td>\n",
       "      <td>28</td>\n",
       "      <td>1</td>\n",
       "      <td>1</td>\n",
       "      <td>-1</td>\n",
       "      <td>-1</td>\n",
       "      <td>-1</td>\n",
       "      <td>-1</td>\n",
       "      <td>3000</td>\n",
       "      <td>400</td>\n",
       "      <td>160</td>\n",
       "      <td>1616</td>\n",
       "      <td>1000</td>\n",
       "      <td>70</td>\n",
       "      <td>3000</td>\n",
       "      <td>400</td>\n",
       "      <td>125</td>\n",
       "      <td>1416</td>\n",
       "      <td>500</td>\n",
       "      <td>70</td>\n",
       "      <td>0</td>\n",
       "      <td>0</td>\n",
       "      <td>0</td>\n",
       "    </tr>\n",
       "    <tr>\n",
       "      <th>1</th>\n",
       "      <td>4000</td>\n",
       "      <td>2</td>\n",
       "      <td>2</td>\n",
       "      <td>2</td>\n",
       "      <td>34</td>\n",
       "      <td>-1</td>\n",
       "      <td>2</td>\n",
       "      <td>-1</td>\n",
       "      <td>9</td>\n",
       "      <td>1</td>\n",
       "      <td>2</td>\n",
       "      <td>2400</td>\n",
       "      <td>234</td>\n",
       "      <td>123</td>\n",
       "      <td>846</td>\n",
       "      <td>2030</td>\n",
       "      <td>266</td>\n",
       "      <td>2356</td>\n",
       "      <td>45</td>\n",
       "      <td>123</td>\n",
       "      <td>846</td>\n",
       "      <td>2030</td>\n",
       "      <td>266</td>\n",
       "      <td>0</td>\n",
       "      <td>0</td>\n",
       "      <td>0</td>\n",
       "    </tr>\n",
       "    <tr>\n",
       "      <th>2</th>\n",
       "      <td>5000</td>\n",
       "      <td>2</td>\n",
       "      <td>3</td>\n",
       "      <td>1</td>\n",
       "      <td>24</td>\n",
       "      <td>3</td>\n",
       "      <td>3</td>\n",
       "      <td>5</td>\n",
       "      <td>2</td>\n",
       "      <td>2</td>\n",
       "      <td>3</td>\n",
       "      <td>4024</td>\n",
       "      <td>616</td>\n",
       "      <td>758</td>\n",
       "      <td>3555</td>\n",
       "      <td>4440</td>\n",
       "      <td>1234</td>\n",
       "      <td>33</td>\n",
       "      <td>336</td>\n",
       "      <td>750</td>\n",
       "      <td>1555</td>\n",
       "      <td>3440</td>\n",
       "      <td>1234</td>\n",
       "      <td>1</td>\n",
       "      <td>1</td>\n",
       "      <td>1</td>\n",
       "    </tr>\n",
       "    <tr>\n",
       "      <th>3</th>\n",
       "      <td>7000</td>\n",
       "      <td>1</td>\n",
       "      <td>4</td>\n",
       "      <td>2</td>\n",
       "      <td>63</td>\n",
       "      <td>-1</td>\n",
       "      <td>-1</td>\n",
       "      <td>7</td>\n",
       "      <td>-1</td>\n",
       "      <td>4</td>\n",
       "      <td>1</td>\n",
       "      <td>1356</td>\n",
       "      <td>2334</td>\n",
       "      <td>4880</td>\n",
       "      <td>5646</td>\n",
       "      <td>6036</td>\n",
       "      <td>666</td>\n",
       "      <td>155</td>\n",
       "      <td>1333</td>\n",
       "      <td>4880</td>\n",
       "      <td>5646</td>\n",
       "      <td>4036</td>\n",
       "      <td>666</td>\n",
       "      <td>0</td>\n",
       "      <td>0</td>\n",
       "      <td>0</td>\n",
       "    </tr>\n",
       "    <tr>\n",
       "      <th>4</th>\n",
       "      <td>10000</td>\n",
       "      <td>2</td>\n",
       "      <td>5</td>\n",
       "      <td>2</td>\n",
       "      <td>56</td>\n",
       "      <td>5</td>\n",
       "      <td>1</td>\n",
       "      <td>9</td>\n",
       "      <td>2</td>\n",
       "      <td>1</td>\n",
       "      <td>4</td>\n",
       "      <td>1616</td>\n",
       "      <td>1123</td>\n",
       "      <td>3745</td>\n",
       "      <td>2788</td>\n",
       "      <td>9029</td>\n",
       "      <td>7575</td>\n",
       "      <td>666</td>\n",
       "      <td>334</td>\n",
       "      <td>3744</td>\n",
       "      <td>1788</td>\n",
       "      <td>9029</td>\n",
       "      <td>7575</td>\n",
       "      <td>1</td>\n",
       "      <td>0</td>\n",
       "      <td>1</td>\n",
       "    </tr>\n",
       "  </tbody>\n",
       "</table>\n",
       "</div>"
      ],
      "text/plain": [
       "   LIMIT_BAL  SEX  EDUCATION  MARRIAGE  ...  PAY_AMT6  RFC2  RFC1  Ridge\n",
       "0       3000    1          2         1  ...        70     0     0      0\n",
       "1       4000    2          2         2  ...       266     0     0      0\n",
       "2       5000    2          3         1  ...      1234     1     1      1\n",
       "3       7000    1          4         2  ...       666     0     0      0\n",
       "4      10000    2          5         2  ...      7575     1     0      1\n",
       "\n",
       "[5 rows x 26 columns]"
      ]
     },
     "execution_count": 55,
     "metadata": {
      "tags": []
     },
     "output_type": "execute_result"
    }
   ],
   "source": [
    "all_together_df = predicted_values.join(RFC2_fin).join(RFC1_fin).join(Ridge_fin)\n",
    "all_together_df"
   ]
  },
  {
   "cell_type": "markdown",
   "metadata": {
    "id": "bx6pzeQnfr8t"
   },
   "source": [
    "## Prediction Summary:\n",
    "Two Random Forest Classification models gave identical predictions. However, while Ridge model yields same predication for first 4 customers, the last one's prediction is different from other two models. Other two models predict no default payment and Ridge predict there will be default payment next month.\n",
    "\n",
    "Default payment prediction is really important and useful for bankers. Avoiding loan money to people who are likely to have a default payment can assure a stable economy instead a recession.\n",
    "\n"
   ]
  },
  {
   "cell_type": "markdown",
   "metadata": {
    "id": "xeWGR-7g2Q1w"
   },
   "source": [
    "# References:\n",
    "Hyperparameter Tuning the Random Forest in Python: https://towardsdatascience.com/hyperparameter-tuning-the-random-forest-in-python-using-scikit-learn-28d2aa77dd74\n",
    "\n",
    "Overview of Classification Methods in Python: https://stackabuse.com/overview-of-classification-methods-in-python-with-scikit-learn/ "
   ]
  }
 ],
 "metadata": {
  "colab": {
   "collapsed_sections": [
    "gXAxgUShAi6X",
    "Pua4wDlL6jCC",
    "bx6pzeQnfr8t",
    "xeWGR-7g2Q1w"
   ],
   "name": "teamAssign2.ipynb",
   "provenance": []
  },
  "kernelspec": {
   "display_name": "Python 3",
   "language": "python",
   "name": "python3"
  },
  "language_info": {
   "codemirror_mode": {
    "name": "ipython",
    "version": 3
   },
   "file_extension": ".py",
   "mimetype": "text/x-python",
   "name": "python",
   "nbconvert_exporter": "python",
   "pygments_lexer": "ipython3",
   "version": "3.8.5"
  }
 },
 "nbformat": 4,
 "nbformat_minor": 1
}
